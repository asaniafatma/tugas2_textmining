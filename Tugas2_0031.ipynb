{
  "nbformat": 4,
  "nbformat_minor": 0,
  "metadata": {
    "colab": {
      "provenance": [],
      "collapsed_sections": []
    },
    "kernelspec": {
      "name": "python3",
      "display_name": "Python 3"
    },
    "language_info": {
      "name": "python"
    }
  },
  "cells": [
    {
      "cell_type": "code",
      "execution_count": 1,
      "metadata": {
        "colab": {
          "base_uri": "https://localhost:8080/"
        },
        "id": "T1qrF6m2hoin",
        "outputId": "9a59648f-ded1-49de-d423-8c0ea1941a7b"
      },
      "outputs": [
        {
          "output_type": "stream",
          "name": "stdout",
          "text": [
            "Looking in indexes: https://pypi.org/simple, https://us-python.pkg.dev/colab-wheels/public/simple/\n",
            "Collecting snscrape\n",
            "  Downloading snscrape-0.3.4-py3-none-any.whl (35 kB)\n",
            "Requirement already satisfied: requests[socks] in /usr/local/lib/python3.7/dist-packages (from snscrape) (2.23.0)\n",
            "Requirement already satisfied: lxml in /usr/local/lib/python3.7/dist-packages (from snscrape) (4.9.1)\n",
            "Requirement already satisfied: beautifulsoup4 in /usr/local/lib/python3.7/dist-packages (from snscrape) (4.6.3)\n",
            "Requirement already satisfied: idna<3,>=2.5 in /usr/local/lib/python3.7/dist-packages (from requests[socks]->snscrape) (2.10)\n",
            "Requirement already satisfied: certifi>=2017.4.17 in /usr/local/lib/python3.7/dist-packages (from requests[socks]->snscrape) (2022.9.24)\n",
            "Requirement already satisfied: urllib3!=1.25.0,!=1.25.1,<1.26,>=1.21.1 in /usr/local/lib/python3.7/dist-packages (from requests[socks]->snscrape) (1.24.3)\n",
            "Requirement already satisfied: chardet<4,>=3.0.2 in /usr/local/lib/python3.7/dist-packages (from requests[socks]->snscrape) (3.0.4)\n",
            "Requirement already satisfied: PySocks!=1.5.7,>=1.5.6 in /usr/local/lib/python3.7/dist-packages (from requests[socks]->snscrape) (1.7.1)\n",
            "Installing collected packages: snscrape\n",
            "Successfully installed snscrape-0.3.4\n"
          ]
        }
      ],
      "source": [
        "!pip3 install snscrape"
      ]
    },
    {
      "cell_type": "code",
      "source": [
        "!pip install langdetect"
      ],
      "metadata": {
        "colab": {
          "base_uri": "https://localhost:8080/"
        },
        "id": "OFtusznyib-5",
        "outputId": "4e7fc62d-cb3e-4408-e138-3752debf96f9"
      },
      "execution_count": 2,
      "outputs": [
        {
          "output_type": "stream",
          "name": "stdout",
          "text": [
            "Looking in indexes: https://pypi.org/simple, https://us-python.pkg.dev/colab-wheels/public/simple/\n",
            "Collecting langdetect\n",
            "  Downloading langdetect-1.0.9.tar.gz (981 kB)\n",
            "\u001b[K     |████████████████████████████████| 981 kB 7.3 MB/s \n",
            "\u001b[?25hRequirement already satisfied: six in /usr/local/lib/python3.7/dist-packages (from langdetect) (1.15.0)\n",
            "Building wheels for collected packages: langdetect\n",
            "  Building wheel for langdetect (setup.py) ... \u001b[?25l\u001b[?25hdone\n",
            "  Created wheel for langdetect: filename=langdetect-1.0.9-py3-none-any.whl size=993242 sha256=9fcd6f6ddb1c63fffde076d3e6083e1ec15f17c2e7f0baa56df67bba3cbdd106\n",
            "  Stored in directory: /root/.cache/pip/wheels/c5/96/8a/f90c59ed25d75e50a8c10a1b1c2d4c402e4dacfa87f3aff36a\n",
            "Successfully built langdetect\n",
            "Installing collected packages: langdetect\n",
            "Successfully installed langdetect-1.0.9\n"
          ]
        }
      ]
    },
    {
      "cell_type": "code",
      "source": [
        "import snscrape.modules.twitter as sntwitter\n",
        "import json\n",
        "from langdetect import detect"
      ],
      "metadata": {
        "id": "sZjMvfRWirdN"
      },
      "execution_count": 3,
      "outputs": []
    },
    {
      "cell_type": "code",
      "source": [
        "keywords=['sambo']\n",
        "start=\"2022-8-26\"\n",
        "end =\"2022-9-01\"\n",
        "max_num=100\n",
        "fname='tweet.json'\n",
        "languages=['id','en']"
      ],
      "metadata": {
        "id": "lrWFhUbXjAux"
      },
      "execution_count": 4,
      "outputs": []
    },
    {
      "cell_type": "code",
      "source": [
        "import pandas as pd\n",
        "datatw=[]"
      ],
      "metadata": {
        "id": "RsTuyI96lcDN"
      },
      "execution_count": 5,
      "outputs": []
    },
    {
      "cell_type": "code",
      "source": [
        "for keyword in keywords:\n",
        "   \n",
        "    for i, tweet in enumerate (sntwitter.TwitterSearchScraper(f'{keyword} ').get_items()):\n",
        "        \n",
        "        try:\n",
        "            lan=detect(tweet.content)\n",
        "        except:\n",
        "            lan='error'\n",
        "        if i == max_num:\n",
        "            break\n",
        "        if lan in languages:\n",
        "            data = {'id': tweet.id, 'username':tweet.username, 'date': tweet.date, 'text': tweet.content,'url':tweet.url}\n",
        "           # print(data)\n",
        "            datatw.append(tweet.content)\n",
        "            with open(fname, 'a+', encoding='utf-8') as f:\n",
        "                line = json.dumps(data, ensure_ascii=False,default=str)\n",
        "                #print(line)\n",
        "                f.write(line)\n",
        "                f.write('\\n')"
      ],
      "metadata": {
        "id": "5U4_PJUilh_X"
      },
      "execution_count": 6,
      "outputs": []
    },
    {
      "cell_type": "code",
      "source": [
        "datatw"
      ],
      "metadata": {
        "colab": {
          "base_uri": "https://localhost:8080/"
        },
        "id": "CIPRwhNPlsC2",
        "outputId": "5ddf8e8e-4862-4bdd-853c-0527fb3f10e8"
      },
      "execution_count": 7,
      "outputs": [
        {
          "output_type": "execute_result",
          "data": {
            "text/plain": [
              "['@convomf Rusia - Ukraina\\nBBM naik\\nblokir kominfo\\nPelecehan seksual dan kasus bunuh diri\\nSambo\\nNarkoba\\ng20\\nKanjuruhan\\nkdrt\\nresesi 2023\\nbanjir\\nSuhu Ciputat naik😔🙏',\n",
              " '@74124K_74UH @KumajasRobby @panglima_z @JJLeuweung @HilFachruddin @_melody_mellow @GnR24383682 @saifulteladan @BL4ckM4mBA381 @dapitdong @DrTaufan1 @j_lomungil @S4finaT @km03_s @Ingin_BahagiaYa @banten02 @PemetikAksara @Sambo_Kaisar @Diah_Tjokro @ZK3Alph @okyike @oejee2lagi @7 Nih masih utuh Kopi Nangka khas Semarang. Bawa dari Semarang ini biaso Bawa Kopi Toraja tapi drpd minta k sepupu nda enak pulak. Pasti indak mau d ganti Uang nyo. Jdi giling sendiri cobain ternyata pd sukak. Macam mana rasa nya Bang @BL4ckM4mBA381 ? https://t.co/dSsA1U1PgD',\n",
              " 'I overlove because I believe in showing love in the way I would like to receive it. I believe in being the person I needed and need towards others . https://t.co/9lHgVMj6Xw',\n",
              " 'Jangan lewatkan juga nih dan cermati tiga fase pembunuhan brigadir J yg menjerat sambo dan Putri Candrawathi https://t.co/LCy2ckaD6e https://t.co/p78IcwH2vb',\n",
              " 'Tamia  - who do you tell 🎹🎹🎵🎵🎵🎵🎙🎙🎼📻 #Phyuphya #XMA17 \\n\\n@T_Techtonics @Munghana https://t.co/uCe5EsgOcq',\n",
              " '@fkeyamo @officialABAT Obi is the only option because both Tinubu and Atiku are narrow minded. One is saying that it is YOURUBA turn after 16 years of OBJ and Osibajo while Atiku is saying it is for the North despite 16 years of UMYA, Sambo and Buhari.',\n",
              " '@ChiniCrypto Asuba13 https://t.co/m3JvbYjJsn',\n",
              " '@HananXharah From Allah we come and unto him we return as every soul shall taste the bitterness of death,may Allah have mercy on her soul',\n",
              " 'Yang \"matiin\" cctv km 50 timnya sama dengan tim yang \"matiin\" cctv rumah sambo di duren 3, JPU salahsatu Jaksa Penuntut Umumnya sama juga. \\n\\nWaw',\n",
              " 'Brilliant piece by Sambo McNaughton in the Indo this morning... Both harrowing and uplifting in equal measure \\n\\nhttps://t.co/M4XMwDLSex',\n",
              " '@ChiniCrypto @KAIF_Platform Tg: Asuba13 https://t.co/ZeQWDdcmMp',\n",
              " 'My problem is I trust easy.',\n",
              " 'Sebelum sambo juga banyak tuh polisi yg bikin citranya polri runyam\\n\\nCoba cek hesteg #percumalaporpolisi dll banyak tuh https://t.co/l83zI5R1QT',\n",
              " 'PN Jaksel Pastikan Sidang Ferdy Sambo Digelar Terbuka, Live di TV dan\\xa0YouTube https://t.co/KXn82eEpsh',\n",
              " '4 Fakta Sidang Perdana Ferdy Sambo, Soal Masyarakat Boleh Hadir hingga Disiarkan Secara Langsung https://t.co/hWvYJKz1LU https://t.co/JWiHJ9SIiK',\n",
              " '@Letebem 😂 how can you not find about such information??',\n",
              " '@annourcharity @KumajasRobby @panglima_z @JJLeuweung @HilFachruddin @_melody_mellow @GnR24383682 @saifulteladan @BL4ckM4mBA381 @dapitdong @DrTaufan1 @j_lomungil @S4finaT @km03_s @Ingin_BahagiaYa @banten02 @PemetikAksara @Sambo_Kaisar @Diah_Tjokro @ZK3Alph @okyike @oejee2lagi @7 bukan,.\\nitu teman 1 penataran dulu..\\n🤣🤣🤣',\n",
              " 'Catat, Sidang Ferdy Sambo Digelar Terbuka Untuk Umum\\xa0Besok https://t.co/sCf2XTTRRA',\n",
              " '@CNNIndonesia Ga usah sambo, dari dulu juga udah ancur pak, kayak ga paham aja kelakuan manusia kalo dikasi kuasa.',\n",
              " '@74124K_74UH @KumajasRobby @panglima_z @JJLeuweung @HilFachruddin @_melody_mellow @GnR24383682 @saifulteladan @BL4ckM4mBA381 @dapitdong @DrTaufan1 @j_lomungil @S4finaT @km03_s @Ingin_BahagiaYa @banten02 @PemetikAksara @Sambo_Kaisar @Diah_Tjokro @ZK3Alph @okyike @oejee2lagi Ooh..... 👍🏻👍🏻😂yah username nya Abang skrg nda langsung nampak biaso ketik @7 dah nampak ini rename username Iyo ndak?',\n",
              " '@FamozzyyK Oga mi. Our politicians are like that ooh 😂😂. In 2015, FFK on behalf of PDP was calling APC and Islamic party in the south while Namadi Sambo in the north was telling northerners not to vote for APC because Prof Osinbajo is a pastor of a church that has about 5k branches.😂.',\n",
              " 'Demi Allah...semoga pembantai 6 laskar  itu dan semua penguasa yang melindunginya akan diazab sama Allah  dengan azab yang pedih dan sangat menyakitkan. aamin.... 🤲🤲🤲\\n \\nSAMBO CS Udah terkena Mubahalah ... https://t.co/MZmfLLbARv',\n",
              " '@ichak_pratama Sekilas mirip sambo',\n",
              " 'Ferdy sambo ini sosok yg sangat bestie menurut teman-temannya sewaktu sma di makassar lho\\nhttps://t.co/gRrDRPhrtc',\n",
              " '@VIVAcoid Walaupun pernah jadi atasan Sambo..tapi dia di buang dari \"antrian\" perwira tinggi yang moncer karir nya..\\n\\nTiba2 nonggol isu perempuan... Jatuh deh..😏\\nWaktu yang akan membuktikan.🤗',\n",
              " '@Freeky_offl 🤣🤣',\n",
              " '@ragul_Ngk 🤣🤣',\n",
              " '@Karthickx_ Saavu🤣',\n",
              " '@Dewie011 Sambo kok sudah masuk kesekolah ?',\n",
              " '@flexiblemeerah @___Bils Moral decadence slowly creeping in',\n",
              " '@annourcharity @KumajasRobby @panglima_z @JJLeuweung @HilFachruddin @_melody_mellow @GnR24383682 @saifulteladan @BL4ckM4mBA381 @dapitdong @DrTaufan1 @j_lomungil @S4finaT @km03_s @Ingin_BahagiaYa @banten02 @PemetikAksara @Sambo_Kaisar @Diah_Tjokro @ZK3Alph @okyike @oejee2lagi bukan,.\\nditraktir teman di warung,.\\n😅😅',\n",
              " 'Ferdy Sambo Dipastikan Hadir Langsung dalam Pembacaan Dakwaan di PN Jaksel Besok https://t.co/CcTJLfyFUP',\n",
              " '@JunaidBinJunaid My pleasure Bro',\n",
              " '@ankaboy All the opposition parties should challenge him its the campaign season as allowed by the law of nigeria',\n",
              " '@udahgainsecureh Gueee mie ayam jg kok',\n",
              " 'Selain rupawan, ferdy sambo juga sosok yg baik dimata temannya semasa sma \\nhttps://t.co/sWoKsdh7qd',\n",
              " 'Babak baru kasus pembunuhan berencana Brigadir Yosua telah sampai ke tahap persidangan! Apa saja hal yang menjadi dakwaan Sambo cs?\\n\\nSaksikan persidangan secara LIVE, hanya di @KompasTV!\\n\\nStreaming: https://t.co/rUTSoYphmA https://t.co/yTmj31eKMC',\n",
              " \"@Danmcdderry Is now a good time to proclaim I'm a big dcfc fan, or will I wait to after todays match?\",\n",
              " '@ChifeDr Truly sad and the government is quite',\n",
              " '@NoCodeBeginner @bubble I think I will finish it today or tomorrow.\\nThen I will see how I can share the project.',\n",
              " 'Sorotan Publik, Sidang Ferdy Sambo Digelar Terbuka Live TV dan Youtube https://t.co/HrdBMEYc0F',\n",
              " '@Navsteva Where did they get those missiles the head of british intelligence said they are running out of missiles and other armor',\n",
              " 'Wawaye ba. Na that 2pm i come get one important appointment… https://t.co/lsBio3pgxb',\n",
              " 'Kilas Balik Kasus Pembunuhan Berencana Brigadir J, Ferdy Sambo Cs Besok Akan Jalani Sidang Perdana https://t.co/d24udr2C3M https://t.co/spX1zcZPP9',\n",
              " '@Eren75757 @mochatma @M45Broo_ + mantan jubir kpk skrg jadi jubir istri sambo',\n",
              " 'Kawal sidang Sambo.\\nKapan Konsorsium 303 diusut ya? \\n\\nDigelar Besok, Sidang Ferdy Sambo Cs Disiarkan Langsung di TV-Youtube https://t.co/dpvmSUgAT1',\n",
              " 'Sidang perdana Ferdy Sambo akan digelar besok di Pengadilan Negeri Jakarta Selatan, begini tanggapan dari Humas:\\n\\n#ferdysambo #brigadirJ #sidangperdana #PNjaksel #humas #poskota \\nhttps://t.co/khkTyjncIp',\n",
              " '@sayap2_sambo @siregarfaisal @piyopikavet SJW vegan dindonesia mana brani kaya mereka di videonini protes2 &amp; demo wkwk\\n\\nsiap2 kena mental breakdance di bully satu Indonesia wkwkk',\n",
              " 'Sidang perdana Ferdy Sambo dkk akan digelar besok di PN Jaksel. Sidang kasus Sambo dkk dilaksanakan secara terbuka dan disiarkan langsung melalui media massa. https://t.co/Im4hAcQ9Ge',\n",
              " 'Sidang perdana Ferdy Sambo dkk akan digelar besok di PN Jaksel. Sidang kasus Sambo dkk dilaksanakan secara terbuka dan disiarkan langsung melalui media massa. https://t.co/Im4hAcz6Ee',\n",
              " 'Sidang perdana Ferdy Sambo dkk akan digelar besok di PN Jaksel. Sidang kasus Sambo dkk dilaksanakan secara terbuka dan disiarkan langsung melalui media massa. https://t.co/sgDkQlIWK8',\n",
              " '@putrikaronese udah lama kit mutualan. baru aku lihat ava mu \\nselama ini ku kira ilat kepala shinobi',\n",
              " '@ibrah_shuwa Those cleaner jobs pays more than a white collar job here😀😀😀',\n",
              " '@DivHumas_Polri Sambo tertawa melihat ini',\n",
              " '@KompasTV Gangguan jiwa? 😁 Diagnosa Sambo selalu dangkal. Salut untuk pelaku. Terima kasih 👍👍',\n",
              " 'Mini tlangela Joshua Kadison  - Beautiful in my eyes 🎵📻\\n\\n#Phyuphya #XMA17 \\n@T_Techtonics @Munghana',\n",
              " 'Evlo mukkunalum nadakathu🤣 https://t.co/sdLlsodbYA https://t.co/atm4hkAqux',\n",
              " 'Jadwal Sidang Ferdy Sambo Cs Kasus Pembunuhan Brigadir J, Ini 3 Sosok Hakim yang Bakal Pimpin Sidang\\n \\nhttps://t.co/mZfa9Weq2B via @tribunjatim',\n",
              " '@CNNIndonesia Selain sambo, polisi kaya gini super layak dihukum mati!',\n",
              " 'Brian Adams - Please forgive me 🎙🎙🎙🎙🎵🎵🎵🎵🎵🎹📻 #Phyuphya #XMA17 \\n\\n@T_Techtonics @Munghana',\n",
              " '@JaffaParty @SonnyMooreGame Ayoooo',\n",
              " '@Lazvlite Ngegedor rumah pejabat yang terlibat dalam kasus sambo',\n",
              " '@mihrabku @jokowi @ListyoSigitP peristiwa beruntun heboh NasionaL bahkan dunia :\\nKasus Jenderal Ferdy Sambo pembunuhan brigadir Joshua\\n\\nKasus Tragedi Kanjuruhan (gas air mata 132 meninggal 754 luka2)\\n\\nKasus Narkoba Jenderal Teddy Minahasa',\n",
              " 'Gawat! Hotman Paris Sebut Ada Celah yang Bisa Ringankan Hukuman Ferdy Sambo, Bagian Mana? https://t.co/oiz4TZbLgi']"
            ]
          },
          "metadata": {},
          "execution_count": 7
        }
      ]
    },
    {
      "cell_type": "code",
      "source": [
        "!pip install Sastrawi"
      ],
      "metadata": {
        "colab": {
          "base_uri": "https://localhost:8080/"
        },
        "id": "vWwV0nCYmwdF",
        "outputId": "7c2406fb-3b3d-42b2-9b5c-c65959da6f58"
      },
      "execution_count": 8,
      "outputs": [
        {
          "output_type": "stream",
          "name": "stdout",
          "text": [
            "Looking in indexes: https://pypi.org/simple, https://us-python.pkg.dev/colab-wheels/public/simple/\n",
            "Collecting Sastrawi\n",
            "  Downloading Sastrawi-1.0.1-py2.py3-none-any.whl (209 kB)\n",
            "\u001b[K     |████████████████████████████████| 209 kB 7.0 MB/s \n",
            "\u001b[?25hInstalling collected packages: Sastrawi\n",
            "Successfully installed Sastrawi-1.0.1\n"
          ]
        }
      ]
    },
    {
      "cell_type": "code",
      "source": [
        "import re\n",
        "import string\n",
        "from Sastrawi.Stemmer.StemmerFactory import StemmerFactory# create stemmer\n",
        "factory = StemmerFactory()\n",
        "stemmer = factory.create_stemmer()# stemming process\n",
        "# import StopWordRemoverFactory class\n",
        "from Sastrawi.StopWordRemover.StopWordRemoverFactory import StopWordRemoverFactory\n",
        "factory = StopWordRemoverFactory()\n",
        "stopword = factory.create_stop_word_remover()\n",
        "documents_clean=[]\n",
        "\n",
        "for d in datatw:\n",
        "    outputstem= stemmer.stem(d)\n",
        "    d= stopword.remove(outputstem)\n",
        "    # Remove Unicode\n",
        "    document_test = re.sub(r'[^\\x00-\\x7F]+', ' ', d)\n",
        "    # Remove Mentions\n",
        "    document_test = re.sub(r'@\\w+', '', document_test)\n",
        "    # Lowercase the document\n",
        "    document_test = document_test.lower()\n",
        "    # Remove punctuations\n",
        "    document_test = re.sub(r'[%s]' % re.escape(string.punctuation), ' ', document_test)\n",
        "    # Lowercase the numbers\n",
        "    document_test = re.sub(r'[0-9]', '', document_test)\n",
        "    # Remove the doubled space\n",
        "    outputstop = re.sub(r'\\s{2,}', ' ', document_test)\n",
        "    documents_clean.append(outputstop)"
      ],
      "metadata": {
        "id": "0a-VlqaGm4ju"
      },
      "execution_count": 9,
      "outputs": []
    },
    {
      "cell_type": "code",
      "source": [
        "documents_clean[0:5]"
      ],
      "metadata": {
        "colab": {
          "base_uri": "https://localhost:8080/"
        },
        "id": "GS2BimTrnq1W",
        "outputId": "153dd9ca-3f7d-4b43-f465-415741aec2b5"
      },
      "execution_count": 11,
      "outputs": [
        {
          "output_type": "execute_result",
          "data": {
            "text/plain": [
              "['convomf rusia ukraina bbm naik blokir kominfo leceh seksual kasus bunuh diri sambo narkoba g kanjuruhan kdrt resesi banjir suhu ciputat naik',\n",
              " 'k uh kumajasrobby panglima z jjleuweung hilfachruddin melody mellow gnr saifulteladan blckmmba dapitdong drtaufan j lomungil sfinat km s bahagiaya banten pemetikaksara sambo kaisar diah tjokro zkalph okyike oejeelagi nih utuh kopi nangka khas semarang bawa semarang biaso bawa kopi toraja drpd minta k sepupu nda enak pulak indak mau d ganti uang nyo jdi giling sendiri cobain nyata pd sukak macam mana rasa nya bang blckmmba https t co dssaupgd',\n",
              " 'i overlove because i believe in showing love in the way i would like to receive it i believe in being the person i needed and need towards others https t co lhgvmjxw',\n",
              " 'jangan lewat nih cermat tiga fase bunuh brigadir j yg jerat sambo putri candrawathi https t co lcyckade https t co picwhvb',\n",
              " 'tamia who do you tell phyuphya xma t techtonics munghana https t co uceesgocq']"
            ]
          },
          "metadata": {},
          "execution_count": 11
        }
      ]
    },
    {
      "cell_type": "code",
      "source": [
        "from sklearn.feature_extraction.text import TfidfVectorizer\n",
        "import pandas as pd\n",
        "tfidfvectorizer = TfidfVectorizer(analyzer='word')\n",
        "tfidf_wm = tfidfvectorizer.fit_transform(documents_clean)\n",
        "tfidf_tokens = tfidfvectorizer.get_feature_names()"
      ],
      "metadata": {
        "colab": {
          "base_uri": "https://localhost:8080/"
        },
        "id": "8imY4AZyn_vs",
        "outputId": "95bb22cd-e5fd-4f7d-e1c8-f35612d92c25"
      },
      "execution_count": 12,
      "outputs": [
        {
          "output_type": "stream",
          "name": "stderr",
          "text": [
            "/usr/local/lib/python3.7/dist-packages/sklearn/utils/deprecation.py:87: FutureWarning: Function get_feature_names is deprecated; get_feature_names is deprecated in 1.0 and will be removed in 1.2. Please use get_feature_names_out instead.\n",
            "  warnings.warn(msg, category=FutureWarning)\n"
          ]
        }
      ]
    },
    {
      "cell_type": "code",
      "source": [
        "from sklearn.feature_extraction.text import CountVectorizer \n",
        "import matplotlib.pyplot as plt\n",
        "import numpy as np # linear algebra\n",
        "import pandas as pd # data processing, CSV file I/O (e.g. pd.read_csv)\n",
        "cv = CountVectorizer()\n",
        "words = cv.fit_transform(documents_clean)\n",
        "sum_words = words.sum(axis=0)\n",
        "\n",
        "\n",
        "words_freq = [(word, sum_words[0, idx]) for word, idx in cv.vocabulary_.items()]\n",
        "words_freq = sorted(words_freq, key = lambda x: x[1], reverse = True)\n",
        "frequency = pd.DataFrame(words_freq, columns=['word', 'freq'])\n",
        "\n",
        "color = plt.cm.twilight(np.linspace(0, 1, 20))\n",
        "frequency.head(20).plot(x='word', y='freq', kind='bar', figsize=(15, 7), color = color)\n",
        "plt.title(\"Most Frequently Occuring Words - Top 20\")"
      ],
      "metadata": {
        "colab": {
          "base_uri": "https://localhost:8080/",
          "height": 517
        },
        "id": "BzGV8Mb3oEhw",
        "outputId": "4fc69c8d-8c43-4e7b-cdcc-47adc1dca943"
      },
      "execution_count": 13,
      "outputs": [
        {
          "output_type": "execute_result",
          "data": {
            "text/plain": [
              "Text(0.5, 1.0, 'Most Frequently Occuring Words - Top 20')"
            ]
          },
          "metadata": {},
          "execution_count": 13
        },
        {
          "output_type": "display_data",
          "data": {
            "text/plain": [
              "<Figure size 1080x504 with 1 Axes>"
            ],
            "image/png": "[encoded data removed]"
          },
          "metadata": {
            "needs_background": "light"
          }
        }
      ]
    },
    {
      "cell_type": "code",
      "source": [
        "from sklearn.cluster import KMeans\n",
        "true_k = 3\n",
        "model = KMeans(n_clusters=true_k, init='k-means++', max_iter=100, n_init=1)\n",
        "model.fit(words)"
      ],
      "metadata": {
        "colab": {
          "base_uri": "https://localhost:8080/"
        },
        "id": "Fr7ef20toLGZ",
        "outputId": "370c8f32-3031-4001-ab9a-2859adffbc47"
      },
      "execution_count": 14,
      "outputs": [
        {
          "output_type": "execute_result",
          "data": {
            "text/plain": [
              "KMeans(max_iter=100, n_clusters=3, n_init=1)"
            ]
          },
          "metadata": {},
          "execution_count": 14
        }
      ]
    },
    {
      "cell_type": "code",
      "source": [
        "order_centroids = model.cluster_centers_.argsort()[:, ::-1]\n",
        "terms = cv.get_feature_names()\n",
        "\n",
        "for i in range(true_k):\n",
        "    print(\"Cluster %d:\" % i),\n",
        "    for ind in order_centroids[i, :10]:\n",
        "        print(' %s' % terms[ind]),\n",
        "    print\n",
        "\n",
        "print(\"\\n\")"
      ],
      "metadata": {
        "colab": {
          "base_uri": "https://localhost:8080/"
        },
        "id": "aFnA1HbfoQJQ",
        "outputId": "a89109de-28af-4182-9733-3252c4d99c01"
      },
      "execution_count": 15,
      "outputs": [
        {
          "output_type": "stream",
          "name": "stdout",
          "text": [
            "Cluster 0:\n",
            " sambo\n",
            " sidang\n",
            " dkk\n",
            " besok\n",
            " siar\n",
            " gelar\n",
            " https\n",
            " langsung\n",
            " co\n",
            " ferdy\n",
            "Cluster 1:\n",
            " sambo\n",
            " https\n",
            " co\n",
            " ferdy\n",
            " the\n",
            " in\n",
            " sidang\n",
            " kasus\n",
            " of\n",
            " bunuh\n",
            "Cluster 2:\n",
            " is\n",
            " and\n",
            " it\n",
            " saying\n",
            " of\n",
            " years\n",
            " the\n",
            " ati\n",
            " fkeyamo\n",
            " option\n",
            "\n",
            "\n"
          ]
        },
        {
          "output_type": "stream",
          "name": "stderr",
          "text": [
            "/usr/local/lib/python3.7/dist-packages/sklearn/utils/deprecation.py:87: FutureWarning: Function get_feature_names is deprecated; get_feature_names is deprecated in 1.0 and will be removed in 1.2. Please use get_feature_names_out instead.\n",
            "  warnings.warn(msg, category=FutureWarning)\n"
          ]
        }
      ]
    },
    {
      "cell_type": "code",
      "source": [
        "import scipy.cluster.hierarchy as sch\n",
        "X = cv.fit_transform(documents_clean).todense()\n",
        "dendrogram = sch.dendrogram(sch.linkage(X, method = 'ward',metric='euclidean'),orientation=\"top\")\n",
        "plt.title('Dendrogram')\n",
        "plt.xlabel('Jarak Ward')\n",
        "plt.ylabel('Nomor Dokumen')\n",
        "plt.show()"
      ],
      "metadata": {
        "colab": {
          "base_uri": "https://localhost:8080/",
          "height": 293
        },
        "id": "KkswIBCwoV9p",
        "outputId": "06d6fd84-3378-45e0-c9b6-71f655cde720"
      },
      "execution_count": null,
      "outputs": [
        {
          "output_type": "display_data",
          "data": {
            "text/plain": [
              "<Figure size 432x288 with 1 Axes>"
            ],
            "image/png": "[encoded data removed]"
          },
          "metadata": {
            "needs_background": "light"
          }
        }
      ]
    },
    {
      "cell_type": "code",
      "source": [
        "import scipy.cluster.hierarchy as sch\n",
        "X = cv.fit_transform(documents_clean).todense()\n",
        "dendrogram = sch.dendrogram(sch.linkage(X, method = 'average',metric='euclidean'),orientation=\"right\")\n",
        "plt.title('Dendrogram')\n",
        "plt.xlabel('Jarak Rerata')\n",
        "plt.ylabel('Nomor Dokumen')\n",
        "plt.show()"
      ],
      "metadata": {
        "colab": {
          "base_uri": "https://localhost:8080/",
          "height": 295
        },
        "id": "QfMbMfMHoadV",
        "outputId": "09393ea7-6b95-4623-eac6-229cabff7b8c"
      },
      "execution_count": null,
      "outputs": [
        {
          "output_type": "display_data",
          "data": {
            "text/plain": [
              "<Figure size 432x288 with 1 Axes>"
            ],
            "image/png": "[encoded data removed]"
          },
          "metadata": {
            "needs_background": "light"
          }
        }
      ]
    }
  ]
}